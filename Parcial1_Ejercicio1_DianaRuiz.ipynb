{
  "nbformat": 4,
  "nbformat_minor": 0,
  "metadata": {
    "colab": {
      "provenance": [],
      "authorship_tag": "ABX9TyOesTiUjukECAoUyfE2J5LT",
      "include_colab_link": true
    },
    "kernelspec": {
      "name": "python3",
      "display_name": "Python 3"
    },
    "language_info": {
      "name": "python"
    }
  },
  "cells": [
    {
      "cell_type": "markdown",
      "metadata": {
        "id": "view-in-github",
        "colab_type": "text"
      },
      "source": [
        "<a href=\"https://colab.research.google.com/github/Igirisu861/Parcial1_Ciberseguridad_DianaRuiz/blob/main/Parcial1_Ejercicio1_DianaRuiz.ipynb\" target=\"_parent\"><img src=\"https://colab.research.google.com/assets/colab-badge.svg\" alt=\"Open In Colab\"/></a>"
      ]
    },
    {
      "cell_type": "markdown",
      "source": [
        "# **Parcial 1**"
      ],
      "metadata": {
        "id": "YLYV4G1MP3Zg"
      }
    },
    {
      "cell_type": "markdown",
      "source": [
        "## **Ejercicio 1**"
      ],
      "metadata": {
        "id": "cJOn2tuJPxuj"
      }
    },
    {
      "cell_type": "markdown",
      "source": [
        "El alumno deberá utilizar el algoritmo RSA para que Alice le mande un mensaje\n",
        "cifrado a Bob con las siguientes características.\n",
        "El mensaje “M” será de 1050 caracteres.\n",
        "\n",
        "* El alumno deberá generar h(M) para una vez descifrado constatar la\n",
        " autenticidad del mensaje M.\n",
        "* Por cuestiones de eficiencia el alumno deberá dividir en partes más\n",
        "pequeñas de 128 caracteres el mensaje antes de ser cifrado y enviado.\n",
        "* Alice cifrará los mensajes producto de la división del mensaje original con la\n",
        "llave pública de Bob.\n",
        "* Bob descifrará los mensajes con su llave privada y con cada uno de ellos\n",
        "obtendrá el mensaje original de 1050 caracteres.\n",
        "* Bob generará el hash del mensaje recibido h(M’).\n",
        "* Debemos comparar si h(M) = h(M’)"
      ],
      "metadata": {
        "id": "Istt_GWQPkKb"
      }
    },
    {
      "cell_type": "code",
      "execution_count": 100,
      "metadata": {
        "colab": {
          "base_uri": "https://localhost:8080/"
        },
        "id": "0uM64Y-MO2aL",
        "outputId": "011945aa-8c3a-49d2-f59b-d4b9f615fb61"
      },
      "outputs": [
        {
          "output_type": "stream",
          "name": "stdout",
          "text": [
            "Requirement already satisfied: pycryptodome in /usr/local/lib/python3.11/dist-packages (3.21.0)\n"
          ]
        }
      ],
      "source": [
        "!pip install pycryptodome"
      ]
    },
    {
      "cell_type": "code",
      "source": [
        "import Crypto.Util.number\n",
        "import random\n",
        "import hashlib\n",
        "import random\n",
        "import string"
      ],
      "metadata": {
        "id": "HzddvzNCqOh2"
      },
      "execution_count": 101,
      "outputs": []
    },
    {
      "cell_type": "markdown",
      "source": [
        "### **Creación de las llaves de Alice y Bob**"
      ],
      "metadata": {
        "id": "NM-YMu1mqPnu"
      }
    },
    {
      "cell_type": "code",
      "source": [
        "e = 65537\n",
        "\n",
        "#llave pública de Alice\n",
        "pA = Crypto.Util.number.getPrime(1024)\n",
        "qA = Crypto.Util.number.getPrime(1024)\n",
        "nA = pA * qA\n",
        "\n",
        "#Llave privada de Alice\n",
        "phiA = (pA - 1) * (qA - 1)\n",
        "dA = pow(e, -1, phiA)\n",
        "\n",
        "\n",
        "#llave pública de Bob\n",
        "pB = Crypto.Util.number.getPrime(1024)\n",
        "qB = Crypto.Util.number.getPrime(1024)\n",
        "nB = pB * qB\n",
        "\n",
        "#Llave privada de Bob\n",
        "phiB = (pB - 1) * (qB - 1)\n",
        "dB = pow(e, -1, phiB)"
      ],
      "metadata": {
        "id": "xCNE36V6qT6e"
      },
      "execution_count": 102,
      "outputs": []
    },
    {
      "cell_type": "markdown",
      "source": [
        "### **Generación del mensaje de 1050 caracteres**"
      ],
      "metadata": {
        "id": "lerQe7UQqXsf"
      }
    },
    {
      "cell_type": "code",
      "source": [
        "#generación del mensaje de 1050 caracteres\n",
        "def generate_message(length):\n",
        "  letters = string.ascii_lowercase\n",
        "  return ''.join(random.choice(letters) for i in range(length))\n",
        "\n",
        "msg = generate_message(1050)\n",
        "msg"
      ],
      "metadata": {
        "colab": {
          "base_uri": "https://localhost:8080/",
          "height": 157
        },
        "id": "YS059b_zqb_o",
        "outputId": "e95f1a7f-37c4-48c0-bc81-536a6d4d15f9"
      },
      "execution_count": 103,
      "outputs": [
        {
          "output_type": "execute_result",
          "data": {
            "text/plain": [
              "'kxlkmugukrfpnkanzaacxklfvqifgamefkywjaepgksgulzirezjpncebivuhljziqxwiwtigqwnuvfbmrxfnbnventsrkhbjzvmiidlvmzbruzhdzoneaufkquorvmlsokpmxinaipetdlbraynquimrxsarsszzblpdgvrmaljgbxuqdfqfkxsjejedqquelbtivkifxhhumixuvugitksjeqjdbqvdpskdurlnoqueqrfsvoakplfpltkhexexhfcepyngjsvwbjhxvioqjoudiitwjzyjbunxpddmsmfjtfzczqhwgeqsqzbqddcjrhyjjuxjqdynnjyfyncxyfnipmkznnutxpcdaebwtmlapcaflggltsdrykukjhgsipfxytvtqrmvlpxgxwzwbhhahdvygfvekfktccojxmehdyvgtucpgumfqdusejwaslxgbbyqonjektuvvpyttirecccpkudvwrxdsmbvqdjlnvlzafhhnhrumuoxqdxlwdjpqpshxywzfwdbgwrotwmqjmmafjqzplkaibphrmgrthwlpvujlgtjsqrthoesyflgijbivexczwmjqegrecjgnbcpbytnhpqjvbeoclgkskpgahfpmyebbtuncmibwvpygemgcacjyalitmpgwefqnrfmzscevwbsleamphucziyydfluonvqatgclxnlhsssjkpbhbynixzqwrcgafgtaabpprczpzsdcliyxlcqrjkzumycpedzycncennkbtzlnnuzlwjxbfzrwoqlfgylgfyrxthesbagezciuuoaqbrbjjlezejbqfkaiayunkydhpctpppsfjnbmklpiyglndyvzhlmpezalcmvxjskdtygqojgpkrssshdxrkvmtwnfulgdwbdnvhwswokrswzprvttxhhozdokvwkmcxktezpbmprqvciipqurtlyfkxjnyuvnkvqzxqffafidpjlocfodyitaadzxbusreyiblhzedgosaujvgkzqhsygjbjpuuqfuyyrxxjoojlemauf'"
            ],
            "application/vnd.google.colaboratory.intrinsic+json": {
              "type": "string"
            }
          },
          "metadata": {},
          "execution_count": 103
        }
      ]
    },
    {
      "cell_type": "markdown",
      "source": [
        "### **Cálculo de h(M) o hash del mensaje original**"
      ],
      "metadata": {
        "id": "okJNbzLXqf4t"
      }
    },
    {
      "cell_type": "code",
      "source": [
        "hM = int.from_bytes(hashlib.sha256(msg.encode('utf-8')).digest(), 'big')\n",
        "hM"
      ],
      "metadata": {
        "colab": {
          "base_uri": "https://localhost:8080/"
        },
        "id": "LUfGXRYfqkrS",
        "outputId": "97695734-ae1d-41be-8251-8c582563ff34"
      },
      "execution_count": 104,
      "outputs": [
        {
          "output_type": "execute_result",
          "data": {
            "text/plain": [
              "87348874898765461166455204892058412222940603411933902983692648625106566196083"
            ]
          },
          "metadata": {},
          "execution_count": 104
        }
      ]
    },
    {
      "cell_type": "markdown",
      "source": [
        "### **División y encriptación del mensaje**\n",
        "---\n",
        "\n",
        "Aquí Alice toma el mensaje de 1050 caracteres y lo divide en pedazos de 128. Estos luego se transforman a bytes, luego a int y se realiza la encriptación con la llave pública de Bob (nB). Finalmente, cada pedazo se agrega a la lista cryptParts"
      ],
      "metadata": {
        "id": "UdV3Ur-5qpUx"
      }
    },
    {
      "cell_type": "code",
      "source": [
        "#divide el mensaje en pedazos de 128 caracteres, los cifra y junta en una lista\n",
        "cryptParts = []\n",
        "\n",
        "for i in range(0, len(msg), 128):\n",
        "  part = msg[i:i+128]\n",
        "  partBytes = part.encode()\n",
        "  partInt = int.from_bytes(partBytes, 'big')\n",
        "  cryptPart = pow(partInt, e, nB)\n",
        "  cryptParts.append(cryptPart)\n",
        "\n",
        "cryptParts"
      ],
      "metadata": {
        "colab": {
          "base_uri": "https://localhost:8080/"
        },
        "id": "RsGSYkj-qxlp",
        "outputId": "c24fff2d-57cb-4b4d-8c35-2926768c6ff7"
      },
      "execution_count": 105,
      "outputs": [
        {
          "output_type": "execute_result",
          "data": {
            "text/plain": [
              "[7644179938298978250581888538061132744215251982099206969052923942028320679300490579506367977233991168585912774912661946962576082980056840463232265803495090355345408702183310454076653761238603502400584735017432853655553152250227801130868945269769347268383257285705433381859697893157426698958319651200018114551033589743974292708164310419165581371696250940366006279192901288939286382528594760746064914814683906998869857148606384212072368648421635703372312086127817693210933121887765911873323423516348609440475443546424566222500040047761816926287350068533948247085251853719287707162935457248944431723038070206446563954507,\n",
              " 10579654630209997319660839826594945523315899782358816817518135492060173896707088961303236163929346213582189022251770431461703164440175284090007503601099579430531710688764620208256218450227276614227726093992685346531471162408707447153674237239021323548477653294008362577185819474446097647581442154408660468629981032211842605999044101517158932612568986942520753239144389666816376075097720642312211428533988656862910059489583312067733555123512333817449501758281438219869159387132560067533631795953743906674453241331808764334167896835695736473202174047291703297194019920997247440233261369075221171253289228533027711802587,\n",
              " 10771063451980274880643841093374020924801644437438712162997934060215747800103068103866879585249533855315171446006760635602458312675006715765822526931459992554242109489604910315140917552945762729799259441547637183225682227017563730565990371354028029192610225137359428720070809638332845966238166411871886748591235821134745939931513257210447967411238008308564584448793869727153535313518087709379091817851804389249186667366861642686463711887652975357305286192453644311921989022097945646627571496151579969406383574710110054946076124149498773857748716909911276691352478748164286803347892507023153257820024731118360699650676,\n",
              " 510799472721086572136955913098143700795555684936972947610153268212828730802544097543747923558235885030662095058564462533319518146647146256393788050003239406075491334855788686064113135225407559750093916053565908035175336386493151160514457555916186260044892965946432999735583790142706603652276428357712404577022339679801528799322230548446534537718695020286042842210715488618211655785395232800944939502298525061401486745202612681802130460903932293321291386474355892851324475586297890796165775348062092393000800384592288346712033393979252670002823232300661454791646970301227652526410073222334270565385108660030080637869,\n",
              " 2123855308225013848754093697061459652495155208813814367805543173944021502183061009512409890665436344791961670236366174723899458202155509527249358410466533916307813923930848903184017568598619668940331924382413468421741867126344057386127967421099131063721431151631625853190512864768265870834498333300992908639997130252887512346481994310490782161913884771839749181793664740934106934430018206450187274142933434459593100501301938935793270982324855351335731244286618637672345787890549744848376449586055145607187802446071737525843671041717396580101164615549109149723941831027819487001946273339677779300678388298951893578999,\n",
              " 4334071828853113284043065070591356337097509876797653177864822378486803031785896451984764773280091018196350327062991001084718497366013385338432445716504347421380128988340354184617042613238692231539766034495673387936928539893964711010131317689960075418916580307083393153406248353712394129895864692185922835143763906939244888436495815830251958683649846642962856620669429205566303204411713583052976673238256796903154329412827988063641152777556552013631727723418513395381190291877173403651361708284604909396466470207424540353900104123465180413246889550109678364185488152572340914364979175937308304951919213952879876904035,\n",
              " 12283974552335029546246023680151100103623831498713937769595229698237209890775429780741548175932811006489528908851628676083951384848022933030778097629181030051835309503152364828081393239084905793269111118225078731629081704979696688760999223946675523379996585792527073416334730990209334772216313597394713111766564408929261596985767994727456263744470406282223604094793531868569936993168840826067496714977438737571884216547093729062756391866621546052248496364964989395775203505352852629266434664593985052404300400981084338054786032408461143348170380416586760412484670471438768605073845648042428636895041230978879165294465,\n",
              " 11957754564925118764198798013613555081862898221324973175107568310749374229482337897216750853607899671777135209467559541368949848040475700215256110365325322585327101435148230630540491159364937570201982406129705085121481194417650827225445222782892986403964292240889744446915877219984637739934031329474942708066973027099097347516684201616136093004379878938737248021809693267439441652405112432221718826822425487475149146791072103097030463757521795623740155797971758975043623608771736825627694929122810661028831823908185362104179712736644509922224033103148462289706790667915719228712346959305465657091824046867210177152154,\n",
              " 9143213303302323600565531280843003661550737459411130352965777839686423914092912886496631653103606658466700793932414715565892589375282767411842185236589986206526923460173074010625003652722447082289682769470717917553797762263705483404648957706522692036990838220722496567302083455964843916668227020069903902591204128110050301800474480045941713020677562105702774505915231736929792705972459953760499696162377539563088144510459068311238282511879990594523728321794854509956530502604360322424127927068682936729115347827085964580017981658987357816451844469910762526369895720321747639788434811473324893949413615197790559733661]"
            ]
          },
          "metadata": {},
          "execution_count": 105
        }
      ]
    },
    {
      "cell_type": "markdown",
      "source": [
        "### **Bob recibe esas porciones del mensaje y las decifra y junta al final como strings para obtener el mensaje**\n",
        "\n",
        "\n",
        "\n",
        "---\n",
        "\n",
        "Aquí se revisa cada cryptPart o pedazo encriptado y se realiza su desencriptación. Una vez hecho esto, se convierte a bytes, luego a strings y esta string se añade a la lista decryptParts. Al final esto resulta en el mensaje completo original\n"
      ],
      "metadata": {
        "id": "en4-DzkLq3u_"
      }
    },
    {
      "cell_type": "code",
      "source": [
        "decryptParts = []\n",
        "\n",
        "for cryptPart in cryptParts:\n",
        "  partInt = pow(cryptPart, dB, nB)\n",
        "  partBytes = partInt.to_bytes((partInt.bit_length() + 7)//8, 'big')\n",
        "  partStr = partBytes.decode()\n",
        "  decryptParts.append(partStr)\n",
        "\n",
        "decryptMsg = ''.join(decryptParts)\n",
        "decryptMsg"
      ],
      "metadata": {
        "colab": {
          "base_uri": "https://localhost:8080/",
          "height": 157
        },
        "id": "DY-0E_9Uq67Y",
        "outputId": "d934392b-db80-4f79-bf1b-26b629e57f72"
      },
      "execution_count": 106,
      "outputs": [
        {
          "output_type": "execute_result",
          "data": {
            "text/plain": [
              "'kxlkmugukrfpnkanzaacxklfvqifgamefkywjaepgksgulzirezjpncebivuhljziqxwiwtigqwnuvfbmrxfnbnventsrkhbjzvmiidlvmzbruzhdzoneaufkquorvmlsokpmxinaipetdlbraynquimrxsarsszzblpdgvrmaljgbxuqdfqfkxsjejedqquelbtivkifxhhumixuvugitksjeqjdbqvdpskdurlnoqueqrfsvoakplfpltkhexexhfcepyngjsvwbjhxvioqjoudiitwjzyjbunxpddmsmfjtfzczqhwgeqsqzbqddcjrhyjjuxjqdynnjyfyncxyfnipmkznnutxpcdaebwtmlapcaflggltsdrykukjhgsipfxytvtqrmvlpxgxwzwbhhahdvygfvekfktccojxmehdyvgtucpgumfqdusejwaslxgbbyqonjektuvvpyttirecccpkudvwrxdsmbvqdjlnvlzafhhnhrumuoxqdxlwdjpqpshxywzfwdbgwrotwmqjmmafjqzplkaibphrmgrthwlpvujlgtjsqrthoesyflgijbivexczwmjqegrecjgnbcpbytnhpqjvbeoclgkskpgahfpmyebbtuncmibwvpygemgcacjyalitmpgwefqnrfmzscevwbsleamphucziyydfluonvqatgclxnlhsssjkpbhbynixzqwrcgafgtaabpprczpzsdcliyxlcqrjkzumycpedzycncennkbtzlnnuzlwjxbfzrwoqlfgylgfyrxthesbagezciuuoaqbrbjjlezejbqfkaiayunkydhpctpppsfjnbmklpiyglndyvzhlmpezalcmvxjskdtygqojgpkrssshdxrkvmtwnfulgdwbdnvhwswokrswzprvttxhhozdokvwkmcxktezpbmprqvciipqurtlyfkxjnyuvnkvqzxqffafidpjlocfodyitaadzxbusreyiblhzedgosaujvgkzqhsygjbjpuuqfuyyrxxjoojlemauf'"
            ],
            "application/vnd.google.colaboratory.intrinsic+json": {
              "type": "string"
            }
          },
          "metadata": {},
          "execution_count": 106
        }
      ]
    },
    {
      "cell_type": "markdown",
      "source": [
        "**Calculamos el h(M)' y comparamos con el h(M) del mensaje original para ver si el mensaje se transfirió con éxito a Bob**"
      ],
      "metadata": {
        "id": "P0tXOGe8rCjp"
      }
    },
    {
      "cell_type": "code",
      "source": [
        "hM1 = int.from_bytes(hashlib.sha256(decryptMsg.encode('utf-8')).digest(), 'big')\n",
        "\n",
        "if(hM == hM1):\n",
        "  print(\"El mensaje es auténtico\")\n",
        "else:\n",
        "  print(\"El mensaje no es auténtico\")"
      ],
      "metadata": {
        "colab": {
          "base_uri": "https://localhost:8080/"
        },
        "id": "bJgqhZ3grKbN",
        "outputId": "37621392-e635-4e7f-e33a-69574bf0034c"
      },
      "execution_count": 107,
      "outputs": [
        {
          "output_type": "stream",
          "name": "stdout",
          "text": [
            "El mensaje es auténtico\n"
          ]
        }
      ]
    },
    {
      "cell_type": "markdown",
      "source": [
        "## **Código en un solo cuadro**"
      ],
      "metadata": {
        "id": "xBWPDVMyrZsN"
      }
    },
    {
      "cell_type": "code",
      "source": [
        "import Crypto.Util.number\n",
        "import random\n",
        "import hashlib\n",
        "import random\n",
        "import string\n",
        "\n",
        "e = 65537\n",
        "\n",
        "#llave pública de Alice\n",
        "pA = Crypto.Util.number.getPrime(1024)\n",
        "qA = Crypto.Util.number.getPrime(1024)\n",
        "nA = pA * qA\n",
        "\n",
        "#Llave privada de Alice\n",
        "phiA = (pA - 1) * (qA - 1)\n",
        "dA = pow(e, -1, phiA)\n",
        "\n",
        "\n",
        "#llave pública de Bob\n",
        "pB = Crypto.Util.number.getPrime(1024)\n",
        "qB = Crypto.Util.number.getPrime(1024)\n",
        "nB = pB * qB\n",
        "\n",
        "#Llave privada de Bob\n",
        "phiB = (pB - 1) * (qB - 1)\n",
        "dB = pow(e, -1, phiB)\n",
        "\n",
        "#generación del mensaje de 1050 caracteres\n",
        "def generate_message(length):\n",
        "  letters = string.ascii_lowercase\n",
        "  return ''.join(random.choice(letters) for i in range(length))\n",
        "\n",
        "msg = generate_message(1050)\n",
        "\n",
        "#cálculo del hash del mensaje original\n",
        "hM = int.from_bytes(hashlib.sha256(msg.encode('utf-8')).digest(), 'big')\n",
        "\n",
        "\n",
        "#división del mensaje y encriptación con la llave pública de Bob\n",
        "cryptParts = []\n",
        "\n",
        "for i in range(0, len(msg), 128):\n",
        "  part = msg[i:i+128]\n",
        "  partBytes = part.encode()\n",
        "  partInt = int.from_bytes(partBytes, 'big')\n",
        "  cryptPart = pow(partInt, e, nB)\n",
        "  cryptParts.append(cryptPart)\n",
        "\n",
        "\n",
        "#desencriptación de cada pedazo de 128 caracteres y unión en un solo mensaje\n",
        "decryptParts = []\n",
        "\n",
        "for cryptPart in cryptParts:\n",
        "  partInt = pow(cryptPart, dB, nB)\n",
        "  partBytes = partInt.to_bytes((partInt.bit_length() + 7)//8, 'big')\n",
        "  partStr = partBytes.decode()\n",
        "  decryptParts.append(partStr)\n",
        "\n",
        "decryptMsg = ''.join(decryptParts)\n",
        "\n",
        "#cálculo de hash del mensaje recibido por Bob y verificación de autenticidad\n",
        "hM1 = int.from_bytes(hashlib.sha256(decryptMsg.encode('utf-8')).digest(), 'big')\n",
        "\n",
        "if(hM == hM1):\n",
        "  print(\"El mensaje es auténtico\")\n",
        "else:\n",
        "  print(\"El mensaje no es auténtico\")"
      ],
      "metadata": {
        "colab": {
          "base_uri": "https://localhost:8080/"
        },
        "id": "mfZR87Lwl6jd",
        "outputId": "c8802c8e-2e6f-408f-97f8-33abea63b24f"
      },
      "execution_count": 108,
      "outputs": [
        {
          "output_type": "stream",
          "name": "stdout",
          "text": [
            "El mensaje es auténtico\n"
          ]
        }
      ]
    }
  ]
}