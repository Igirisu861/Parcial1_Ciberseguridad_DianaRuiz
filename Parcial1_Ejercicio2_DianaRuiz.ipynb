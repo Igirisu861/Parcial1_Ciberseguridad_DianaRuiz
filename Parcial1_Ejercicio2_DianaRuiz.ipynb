{
  "nbformat": 4,
  "nbformat_minor": 0,
  "metadata": {
    "colab": {
      "provenance": [],
      "authorship_tag": "ABX9TyPjFs0UbBK7uYfn4DpOlwbx",
      "include_colab_link": true
    },
    "kernelspec": {
      "name": "python3",
      "display_name": "Python 3"
    },
    "language_info": {
      "name": "python"
    }
  },
  "cells": [
    {
      "cell_type": "markdown",
      "metadata": {
        "id": "view-in-github",
        "colab_type": "text"
      },
      "source": [
        "<a href=\"https://colab.research.google.com/github/Igirisu861/Parcial1_Ciberseguridad_DianaRuiz/blob/main/Parcial1_Ejercicio2_DianaRuiz.ipynb\" target=\"_parent\"><img src=\"https://colab.research.google.com/assets/colab-badge.svg\" alt=\"Open In Colab\"/></a>"
      ]
    },
    {
      "cell_type": "markdown",
      "source": [
        "# **Ejercicio 2**\n",
        "\n",
        "---\n",
        "\n",
        "Mediante el algoritmo RSA Alice firmará digitalmente el contrato NDA.pdf que se\n",
        "adjunta en la actividad, deberá cumplir con las siguientes instrucciones:\n",
        "\n",
        "* Alice firmará digitalmente el contrato h(M) usando el algoritmo RSA\n",
        "mediante su llave privada.\n",
        "* Una vez obtenida la firma Alice agregará dicha firma (cadena de caracteres)\n",
        "al archivo PDF y se lo enviará a la Autoridad Certificadora (AC).\n",
        "* La AC obtendrá el HASH del documento original y verificará la firma usando\n",
        "la llave pública de Alice.\n",
        "* La AC firmará el documento con su llave privada y se la agrega al PDF y se la\n",
        "envía a Bob.\n",
        "* Bob obtiene el HASH del documento PDF y verifica la firma de la AC con la\n",
        "llave pública de AC."
      ],
      "metadata": {
        "id": "zblbqmFUxAuq"
      }
    },
    {
      "cell_type": "markdown",
      "source": [
        "## **Importamos librerías**\n",
        "\n",
        "Adicionalmente se importó fitz, librería para modificar el PDF con la firma digital."
      ],
      "metadata": {
        "id": "EnxZgyxbGlmi"
      }
    },
    {
      "cell_type": "code",
      "execution_count": 36,
      "metadata": {
        "id": "88WjY7k7w9SG",
        "colab": {
          "base_uri": "https://localhost:8080/"
        },
        "outputId": "e284ee4e-3eb9-43b5-bb9f-309edb4110a9"
      },
      "outputs": [
        {
          "output_type": "stream",
          "name": "stdout",
          "text": [
            "Requirement already satisfied: pycryptodome in /usr/local/lib/python3.11/dist-packages (3.21.0)\n",
            "Requirement already satisfied: PyMuPDF in /usr/local/lib/python3.11/dist-packages (1.25.3)\n"
          ]
        }
      ],
      "source": [
        "!pip install pycryptodome\n",
        "!pip install PyMuPDF"
      ]
    },
    {
      "cell_type": "code",
      "source": [
        "import Crypto.Util.number\n",
        "import random\n",
        "import hashlib\n",
        "import fitz"
      ],
      "metadata": {
        "id": "wx5aazUlFQkq"
      },
      "execution_count": 37,
      "outputs": []
    },
    {
      "cell_type": "markdown",
      "source": [
        "## **Métodos a utilizar**"
      ],
      "metadata": {
        "id": "9M-2zj00Gzl8"
      }
    },
    {
      "cell_type": "markdown",
      "source": [
        "### **Método para generar llaves**"
      ],
      "metadata": {
        "id": "7wVR6_sbFSlu"
      }
    },
    {
      "cell_type": "code",
      "source": [
        "def generateKeys():\n",
        "  e = 65537\n",
        "  p = Crypto.Util.number.getPrime(1024)\n",
        "  q = Crypto.Util.number.getPrime(1024)\n",
        "  pub = p*q\n",
        "  phi = (p-1)*(q-1)\n",
        "  priv = pow(e, -1, phi)\n",
        "  return (pub, e), (pub, priv)"
      ],
      "metadata": {
        "id": "235YmaCcFVqn"
      },
      "execution_count": 38,
      "outputs": []
    },
    {
      "cell_type": "markdown",
      "source": [
        "### **Método para generar la firma**"
      ],
      "metadata": {
        "id": "NaCWaHENFXaf"
      }
    },
    {
      "cell_type": "code",
      "source": [
        "def signHash(privKey, docPath):\n",
        "  pub, priv = privKey\n",
        "  with open(docPath, 'rb') as f:\n",
        "    data = f.read()\n",
        "  hashVal = int.from_bytes(hashlib.sha256(data).digest(), byteorder='big')\n",
        "  signature = pow(hashVal, priv, pub)\n",
        "  return signature"
      ],
      "metadata": {
        "id": "LRD62G7dFaOh"
      },
      "execution_count": 39,
      "outputs": []
    },
    {
      "cell_type": "markdown",
      "source": [
        "### **Método para añadirle la firma al documento pdf**"
      ],
      "metadata": {
        "id": "Uv1_eelFFb01"
      }
    },
    {
      "cell_type": "code",
      "source": [
        "def addSignToDoc(pdfPath, signature, pdfResult):\n",
        "    doc = fitz.open(pdfPath)\n",
        "    page = doc[-1]\n",
        "\n",
        "    x_start = 50\n",
        "    y_start = 500\n",
        "    line_spacing = 20\n",
        "\n",
        "    text = page.get_text(\"text\")\n",
        "    existing_signatures = text.count(\"Firma RSA:\")\n",
        "    y_offset = y_start + (existing_signatures * line_spacing)\n",
        "    signature_str = f\"Firma RSA: {signature}\"\n",
        "\n",
        "    page.insert_text((x_start, y_offset), signature_str, fontsize=10)\n",
        "\n",
        "    y_offset += line_spacing\n",
        "\n",
        "    doc.save(pdfResult)"
      ],
      "metadata": {
        "id": "DxE21LRoFbp4"
      },
      "execution_count": 40,
      "outputs": []
    },
    {
      "cell_type": "markdown",
      "source": [
        "### **Método para verificar la firma digital**"
      ],
      "metadata": {
        "id": "WGglJ-feFntE"
      }
    },
    {
      "cell_type": "code",
      "source": [
        "def verifySignature(pubKey, docPath, signature):\n",
        "  pub,e = pubKey\n",
        "  with open(docPath, 'rb') as f:\n",
        "    data = f.read()\n",
        "  hashVal = int.from_bytes(hashlib.sha256(data).digest(), byteorder='big')\n",
        "  decryptedSignature = pow(signature, e, pub)\n",
        "  return hashVal == decryptedSignature"
      ],
      "metadata": {
        "id": "Om8AX55gFoA8"
      },
      "execution_count": 41,
      "outputs": []
    },
    {
      "cell_type": "markdown",
      "source": [
        "## **Proceso de intercambio del documento firmado**\n",
        "---\n",
        "Primero Alice genera sus llaves y firma el PDF del NDA original. Además, le agrega su firma al documento.\n"
      ],
      "metadata": {
        "id": "AMCYNFbMFyyO"
      }
    },
    {
      "cell_type": "code",
      "source": [
        "pubA, privA = generateKeys()\n",
        "docPath = '/content/NDA.pdf'\n",
        "aliceSign = signHash(privA, docPath)\n",
        "addSignToDoc(docPath, aliceSign, 'NDASignedByAlice.pdf')"
      ],
      "metadata": {
        "id": "ovcUizIwGBHN"
      },
      "execution_count": 42,
      "outputs": []
    },
    {
      "cell_type": "markdown",
      "source": [
        "Ahora, creamos las llaves de la AC y esta verifica el documento firmado por Alice. En caso de ser verificado, la AC vuelve a firmar ese documento y añade su firma al PDF"
      ],
      "metadata": {
        "id": "kYkPmGAxGHen"
      }
    },
    {
      "cell_type": "code",
      "source": [
        "acPub, acPriv = generateKeys()\n",
        "\n",
        "if verifySignature(pubA, docPath, aliceSign):\n",
        "  print('Firma verificada por la AC')\n",
        "  addSignToDoc('NDASignedByAlice.pdf', acSign, 'NDASignedByAC.pdf')\n",
        "  acSign = signHash(acPriv, 'NDASignedByAC.pdf')\n",
        "else:\n",
        "  print('Firma no válida')"
      ],
      "metadata": {
        "colab": {
          "base_uri": "https://localhost:8080/"
        },
        "id": "HoeI65jgGTis",
        "outputId": "89711410-eb7c-4790-9180-ee84852af318"
      },
      "execution_count": 43,
      "outputs": [
        {
          "output_type": "stream",
          "name": "stdout",
          "text": [
            "Firma verificada por la AC\n"
          ]
        }
      ]
    },
    {
      "cell_type": "markdown",
      "source": [
        "Finalmente, Bob recibe el documento firmado por la AC y lo verifica sin necesidad de usar la llave de Alice, sólo usa la llave pública de la AC"
      ],
      "metadata": {
        "id": "yBN8fVXyGWN1"
      }
    },
    {
      "cell_type": "code",
      "source": [
        "#Bob recibe el documento desde la AC con su respectiva firma\n",
        "# y verifica\n",
        "if verifySignature(acPub, 'NDASignedByAC.pdf', acSign):\n",
        "  print('Firma verificada por Bob')\n",
        "else:\n",
        "  print('Firma no válida')"
      ],
      "metadata": {
        "colab": {
          "base_uri": "https://localhost:8080/"
        },
        "id": "V8WS-my6Ggaq",
        "outputId": "1e5d6a12-1fda-44fd-ae7d-60ebfc243f16"
      },
      "execution_count": 44,
      "outputs": [
        {
          "output_type": "stream",
          "name": "stdout",
          "text": [
            "Firma verificada por Bob\n"
          ]
        }
      ]
    },
    {
      "cell_type": "markdown",
      "source": [
        "## **Código completo**"
      ],
      "metadata": {
        "id": "oieFsQdwGhGa"
      }
    },
    {
      "cell_type": "code",
      "source": [
        "import Crypto.Util.number\n",
        "import random\n",
        "import hashlib\n",
        "import fitz\n",
        "\n",
        "#métodos a utilizar\n",
        "\n",
        "def generateKeys():\n",
        "  e = 65537\n",
        "  p = Crypto.Util.number.getPrime(1024)\n",
        "  q = Crypto.Util.number.getPrime(1024)\n",
        "  pub = p*q\n",
        "  phi = (p-1)*(q-1)\n",
        "  priv = pow(e, -1, phi)\n",
        "  return (pub, e), (pub, priv)\n",
        "\n",
        "def signHash(privKey, docPath):\n",
        "  pub, priv = privKey\n",
        "  with open(docPath, 'rb') as f:\n",
        "    data = f.read()\n",
        "  hashVal = int.from_bytes(hashlib.sha256(data).digest(), byteorder='big')\n",
        "  signature = pow(hashVal, priv, pub)\n",
        "  return signature\n",
        "\n",
        "def addSignToDoc(pdfPath, signature, pdfResult):\n",
        "    doc = fitz.open(pdfPath)\n",
        "    page = doc[-1]\n",
        "\n",
        "    # Definir posición base y márgenes\n",
        "    x_start = 50  # Margen izquierdo\n",
        "    y_start = 500  # Posición inicial en Y\n",
        "    line_spacing = 20  # Espaciado entre líneas\n",
        "\n",
        "    # Contar firmas existentes para posicionar la nueva\n",
        "    text = page.get_text(\"text\")\n",
        "    existing_signatures = text.count(\"Firma RSA:\")\n",
        "    y_offset = y_start + (existing_signatures * line_spacing)\n",
        "    signature_str = f\"Firma RSA: {signature}\"\n",
        "\n",
        "    # Insertar la firma en el documento considerando las posiciones y modifica\n",
        "    #el tamaño de la fuente de hacer falta\n",
        "    page.insert_text((x_start, y_offset), signature_str, fontsize=10)\n",
        "\n",
        "    # Ajustar la posición para la siguiente firma si es necesario\n",
        "    y_offset += line_spacing\n",
        "\n",
        "    # Guardar el documento con la nueva firma\n",
        "    doc.save(pdfResult)\n",
        "\n",
        "\n",
        "def verifySignature(pubKey, docPath, signature):\n",
        "  pub,e = pubKey\n",
        "  with open(docPath, 'rb') as f:\n",
        "    data = f.read()\n",
        "  hashVal = int.from_bytes(hashlib.sha256(data).digest(), byteorder='big')\n",
        "  decryptedSignature = pow(signature, e, pub)\n",
        "  return hashVal == decryptedSignature\n",
        "\n",
        "\n",
        "#Comienza proceso\n",
        "#Generamos las llaves de Alice\n",
        "pubA, privA = generateKeys()\n",
        "\n",
        "docPath = '/content/NDA.pdf'\n",
        "\n",
        "#Se crea el hash del documento y se calcula la firma de Alice\n",
        "#usando sus llaves\n",
        "aliceSign = signHash(privA, docPath)\n",
        "\n",
        "#se agrega al documento pdf la firma\n",
        "addSignToDoc(docPath, aliceSign, 'NDASignedByAlice.pdf')\n",
        "\n",
        "#generamos las llaves de la AC\n",
        "acPub, acPriv = generateKeys()\n",
        "\n",
        "if verifySignature(pubA, docPath, aliceSign):\n",
        "  print('Firma verificada por la AC')\n",
        "  addSignToDoc('NDASignedByAlice.pdf', acSign, 'NDASignedByAC.pdf')\n",
        "  acSign = signHash(acPriv, 'NDASignedByAC.pdf')\n",
        "else:\n",
        "  print('Firma no válida')\n",
        "\n",
        "#Bob recibe el documento desde la AC con su respectiva firma\n",
        "# y verifica\n",
        "if verifySignature(acPub, 'NDASignedByAC.pdf', acSign):\n",
        "  print('Firma verificada por Bob')\n",
        "else:\n",
        "  print('Firma no válida')"
      ],
      "metadata": {
        "colab": {
          "base_uri": "https://localhost:8080/"
        },
        "id": "0UwjHfdLoAXP",
        "outputId": "5be17075-551d-4eaf-eecc-b58bdd56b81d"
      },
      "execution_count": 45,
      "outputs": [
        {
          "output_type": "stream",
          "name": "stdout",
          "text": [
            "Firma verificada por la AC\n",
            "Firma verificada por Bob\n"
          ]
        }
      ]
    }
  ]
}